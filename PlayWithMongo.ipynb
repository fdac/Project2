{
 "metadata": {
  "name": "",
  "signature": "sha256:cebe71f273d4b953e540af0a812a4046a8a6daf9134586d251c9c20c195ed32e"
 },
 "nbformat": 3,
 "nbformat_minor": 0,
 "worksheets": [
  {
   "cells": [
    {
     "cell_type": "markdown",
     "metadata": {},
     "source": [
      "## Set up a connection to MongoDB"
     ]
    },
    {
     "cell_type": "code",
     "collapsed": false,
     "input": [
      "import re\n",
      "import pymongo, json\n",
      "\n",
      "client = pymongo.MongoClient (host=\"da0.eecs.utk.edu\")\n",
      "\n",
      "# Get a reference to a particular database\n",
      "db = client ['bitbucket']\n",
      "\n",
      "#other databases are gutenberg and github"
     ],
     "language": "python",
     "metadata": {},
     "outputs": [],
     "prompt_number": 1
    },
    {
     "cell_type": "markdown",
     "metadata": {},
     "source": [
      "#Go ahead and play"
     ]
    },
    {
     "cell_type": "code",
     "collapsed": false,
     "input": [
      "# Reference a particular collection in the database\n",
      "# MongoDB collections are like tables in SQL databases\n",
      "repos = db ['repos']\n",
      "\n",
      "#print names of all the bitbucker repos that contain string harry\n",
      "findHarry = re.compile(\"harry\", re.IGNORECASE)\n",
      "cursor = repos.find( { 'description' :findHarry }, { 'full_name': 1, '_id': 0 } )\n",
      "for result in cursor:\n",
      "   print result [ 'full_name' ]"
     ],
     "language": "python",
     "metadata": {},
     "outputs": [
      {
       "output_type": "stream",
       "stream": "stdout",
       "text": [
        "techtonik/wxdebug\n",
        "roberton/harry\n",
        "ProjectsRepo/tdd\n",
        "radcliffe/superlists\n",
        "homoregie/eaturner_harryomoregie\n",
        "akunggantengbgt/viooz-watch-here-the-amazing-spider-man-2-online-free-full\n",
        "akunggantengbgt/aaa-viooz-watch-here-the-amazing-spider-man-2-online-free-full\n",
        "rsullivan/predict-o-cite\n",
        "danipeti/hp-aop\n"
       ]
      }
     ],
     "prompt_number": 4
    },
    {
     "cell_type": "code",
     "collapsed": false,
     "input": [
      "#Other collections are forks, commits, and watchers\n",
      "# they are not completely populated, but should be populated in a few days\n",
      "for c in ['repos', 'forks', 'commits', 'watchers' ]:\n",
      "  print c + ' ' + str (db [c].count())"
     ],
     "language": "python",
     "metadata": {},
     "outputs": [
      {
       "output_type": "stream",
       "stream": "stdout",
       "text": [
        "repos 424203\n",
        "forks 411\n",
        "commits 287033\n",
        "watchers 2522\n"
       ]
      }
     ],
     "prompt_number": 6
    },
    {
     "cell_type": "code",
     "collapsed": false,
     "input": [
      "#lets look at what the entries look like\n",
      "repos .find_one ({})"
     ],
     "language": "python",
     "metadata": {},
     "outputs": [
      {
       "metadata": {},
       "output_type": "pyout",
       "prompt_number": 7,
       "text": [
        "{u'_id': ObjectId('5432caeea7ef6722d900e5e2'),\n",
        " u'created_on': u'2008-06-25T00:53:00.273366+00:00',\n",
        " u'description': u'Mercurial (hg) extension to allow commenting on commit messages.  Mainly written for practice reading & working with mercurial internals.\\r\\n',\n",
        " u'fork_policy': u'allow_forks',\n",
        " u'full_name': u'phlogistonjohn/tweakmsg',\n",
        " u'has_issues': True,\n",
        " u'has_wiki': True,\n",
        " u'is_private': False,\n",
        " u'language': u'',\n",
        " u'links': {u'avatar': {u'href': u'https://d3oaxc4q5k2d6q.cloudfront.net/m/5f43bd71022b/img/language-avatars/default_16.png'},\n",
        "  u'clone': [{u'href': u'https://bitbucket.org/phlogistonjohn/tweakmsg',\n",
        "    u'name': u'https'},\n",
        "   {u'href': u'ssh://hg@bitbucket.org/phlogistonjohn/tweakmsg',\n",
        "    u'name': u'ssh'}],\n",
        "  u'commits': {u'href': u'https://api.bitbucket.org/2.0/repositories/phlogistonjohn/tweakmsg/commits'},\n",
        "  u'forks': {u'href': u'https://api.bitbucket.org/2.0/repositories/phlogistonjohn/tweakmsg/forks'},\n",
        "  u'html': {u'href': u'https://bitbucket.org/phlogistonjohn/tweakmsg'},\n",
        "  u'pullrequests': {u'href': u'https://api.bitbucket.org/2.0/repositories/phlogistonjohn/tweakmsg/pullrequests'},\n",
        "  u'self': {u'href': u'https://api.bitbucket.org/2.0/repositories/phlogistonjohn/tweakmsg'},\n",
        "  u'watchers': {u'href': u'https://api.bitbucket.org/2.0/repositories/phlogistonjohn/tweakmsg/watchers'}},\n",
        " u'name': u'tweakmsg',\n",
        " u'owner': {u'display_name': u'John Mulligan',\n",
        "  u'links': {u'avatar': {u'href': u'https://bitbucket-assetroot.s3.amazonaws.com/c/photos/2009/Nov/07/Screenshot1_avatar.png'},\n",
        "   u'html': {u'href': u'https://bitbucket.org/phlogistonjohn'},\n",
        "   u'self': {u'href': u'https://api.bitbucket.org/2.0/users/phlogistonjohn'}},\n",
        "  u'username': u'phlogistonjohn'},\n",
        " u'scm': u'hg',\n",
        " u'size': 7085,\n",
        " u'updated_on': u'2012-06-24T17:32:27.458855+00:00',\n",
        " u'uuid': u'{59299fb9-3695-4e0c-b8ca-836888b83315}'}"
       ]
      }
     ],
     "prompt_number": 7
    },
    {
     "cell_type": "code",
     "collapsed": false,
     "input": [
      "db ['forks'] .find_one ({})"
     ],
     "language": "python",
     "metadata": {},
     "outputs": [
      {
       "metadata": {},
       "output_type": "pyout",
       "prompt_number": 8,
       "text": [
        "{u'_id': ObjectId('54343060a7ef6728e19103c7'),\n",
        " u'parent': ObjectId('5432caeea7ef6722d900e5e6'),\n",
        " u'url': u'https://api.bitbucket.org/2.0/repositories/jespern/cx/forks',\n",
        " u'values': [{u'created_on': u'2008-09-14T03:31:54.177667+00:00',\n",
        "   u'description': u\"Forking to customize cx specifically for my website. Any useful additions I'd like to get pushed back to cx.\",\n",
        "   u'fork_policy': u'allow_forks',\n",
        "   u'full_name': u'mronge/cx',\n",
        "   u'has_issues': True,\n",
        "   u'has_wiki': True,\n",
        "   u'is_private': False,\n",
        "   u'language': u'',\n",
        "   u'links': {u'avatar': {u'href': u'https://d3oaxc4q5k2d6q.cloudfront.net/m/5f43bd71022b/img/language-avatars/default_16.png'},\n",
        "    u'clone': [{u'href': u'https://bitbucket.org/mronge/cx',\n",
        "      u'name': u'https'},\n",
        "     {u'href': u'ssh://hg@bitbucket.org/mronge/cx', u'name': u'ssh'}],\n",
        "    u'commits': {u'href': u'https://api.bitbucket.org/2.0/repositories/mronge/cx/commits'},\n",
        "    u'forks': {u'href': u'https://api.bitbucket.org/2.0/repositories/mronge/cx/forks'},\n",
        "    u'html': {u'href': u'https://bitbucket.org/mronge/cx'},\n",
        "    u'pullrequests': {u'href': u'https://api.bitbucket.org/2.0/repositories/mronge/cx/pullrequests'},\n",
        "    u'self': {u'href': u'https://api.bitbucket.org/2.0/repositories/mronge/cx'},\n",
        "    u'watchers': {u'href': u'https://api.bitbucket.org/2.0/repositories/mronge/cx/watchers'}},\n",
        "   u'name': u'cx',\n",
        "   u'owner': {u'display_name': u'Matt Ronge',\n",
        "    u'links': {u'avatar': {u'href': u'https://secure.gravatar.com/avatar/72321b6ca85f8d88738b78ed8297c707?d=https%3A%2F%2Fd3oaxc4q5k2d6q.cloudfront.net%2Fm%2F5f43bd71022b%2Fimg%2Fdefault_avatar%2F32%2Fuser_blue.png&s=32'},\n",
        "     u'html': {u'href': u'https://bitbucket.org/mronge'},\n",
        "     u'self': {u'href': u'https://api.bitbucket.org/2.0/users/mronge'}},\n",
        "    u'username': u'mronge'},\n",
        "   u'parent': {u'full_name': u'jespern/cx',\n",
        "    u'links': {u'avatar': {u'href': u'https://bitbucket-assetroot.s3.amazonaws.com/c/photos/2008/Jul/23/anatomy_avatar.jpg'},\n",
        "     u'html': {u'href': u'https://bitbucket.org/jespern/cx'},\n",
        "     u'self': {u'href': u'https://api.bitbucket.org/2.0/repositories/jespern/cx'}},\n",
        "    u'name': u'cx'},\n",
        "   u'scm': u'hg',\n",
        "   u'size': 1169247,\n",
        "   u'updated_on': u'2011-09-17T03:14:11.896242+00:00',\n",
        "   u'uuid': u'{66744b56-ba69-43c1-b1b4-9e88ea5b2479}'},\n",
        "  {u'created_on': u'2008-10-03T11:27:03.268218+00:00',\n",
        "   u'description': u'Fork of cx for use on my local blog.\\r\\nIncludes compatibility fixes for Python 2.4, ability to work against Django trunk, misc. bugfixes and _documentation_.\\r\\n\\r\\nAll changes will get merged back, hopefully.',\n",
        "   u'fork_policy': u'allow_forks',\n",
        "   u'full_name': u'ahixon/cx',\n",
        "   u'has_issues': False,\n",
        "   u'has_wiki': False,\n",
        "   u'is_private': False,\n",
        "   u'language': u'',\n",
        "   u'links': {u'avatar': {u'href': u'https://d3oaxc4q5k2d6q.cloudfront.net/m/5f43bd71022b/img/language-avatars/default_16.png'},\n",
        "    u'clone': [{u'href': u'https://bitbucket.org/ahixon/cx',\n",
        "      u'name': u'https'},\n",
        "     {u'href': u'ssh://hg@bitbucket.org/ahixon/cx', u'name': u'ssh'}],\n",
        "    u'commits': {u'href': u'https://api.bitbucket.org/2.0/repositories/ahixon/cx/commits'},\n",
        "    u'forks': {u'href': u'https://api.bitbucket.org/2.0/repositories/ahixon/cx/forks'},\n",
        "    u'html': {u'href': u'https://bitbucket.org/ahixon/cx'},\n",
        "    u'pullrequests': {u'href': u'https://api.bitbucket.org/2.0/repositories/ahixon/cx/pullrequests'},\n",
        "    u'self': {u'href': u'https://api.bitbucket.org/2.0/repositories/ahixon/cx'},\n",
        "    u'watchers': {u'href': u'https://api.bitbucket.org/2.0/repositories/ahixon/cx/watchers'}},\n",
        "   u'name': u'cx',\n",
        "   u'owner': {u'display_name': u'Alex Hixon',\n",
        "    u'links': {u'avatar': {u'href': u'https://bitbucket-assetroot.s3.amazonaws.com/c/photos/2013/Aug/26/ahixon-avatar-4089477633-5_avatar.png'},\n",
        "     u'html': {u'href': u'https://bitbucket.org/ahixon'},\n",
        "     u'self': {u'href': u'https://api.bitbucket.org/2.0/users/ahixon'}},\n",
        "    u'username': u'ahixon'},\n",
        "   u'parent': {u'full_name': u'jespern/cx',\n",
        "    u'links': {u'avatar': {u'href': u'https://bitbucket-assetroot.s3.amazonaws.com/c/photos/2008/Jul/23/anatomy_avatar.jpg'},\n",
        "     u'html': {u'href': u'https://bitbucket.org/jespern/cx'},\n",
        "     u'self': {u'href': u'https://api.bitbucket.org/2.0/repositories/jespern/cx'}},\n",
        "    u'name': u'cx'},\n",
        "   u'scm': u'hg',\n",
        "   u'size': 1239160,\n",
        "   u'updated_on': u'2011-09-17T03:14:11.919382+00:00',\n",
        "   u'uuid': u'{63740708-f324-43f3-ad2c-5c5d211fa958}'}]}"
       ]
      }
     ],
     "prompt_number": 8
    },
    {
     "cell_type": "code",
     "collapsed": false,
     "input": [
      "db ['repos'] .find_one ({})"
     ],
     "language": "python",
     "metadata": {},
     "outputs": [
      {
       "metadata": {},
       "output_type": "pyout",
       "prompt_number": 9,
       "text": [
        "{u'_id': ObjectId('5432caeea7ef6722d900e5e2'),\n",
        " u'created_on': u'2008-06-25T00:53:00.273366+00:00',\n",
        " u'description': u'Mercurial (hg) extension to allow commenting on commit messages.  Mainly written for practice reading & working with mercurial internals.\\r\\n',\n",
        " u'fork_policy': u'allow_forks',\n",
        " u'full_name': u'phlogistonjohn/tweakmsg',\n",
        " u'has_issues': True,\n",
        " u'has_wiki': True,\n",
        " u'is_private': False,\n",
        " u'language': u'',\n",
        " u'links': {u'avatar': {u'href': u'https://d3oaxc4q5k2d6q.cloudfront.net/m/5f43bd71022b/img/language-avatars/default_16.png'},\n",
        "  u'clone': [{u'href': u'https://bitbucket.org/phlogistonjohn/tweakmsg',\n",
        "    u'name': u'https'},\n",
        "   {u'href': u'ssh://hg@bitbucket.org/phlogistonjohn/tweakmsg',\n",
        "    u'name': u'ssh'}],\n",
        "  u'commits': {u'href': u'https://api.bitbucket.org/2.0/repositories/phlogistonjohn/tweakmsg/commits'},\n",
        "  u'forks': {u'href': u'https://api.bitbucket.org/2.0/repositories/phlogistonjohn/tweakmsg/forks'},\n",
        "  u'html': {u'href': u'https://bitbucket.org/phlogistonjohn/tweakmsg'},\n",
        "  u'pullrequests': {u'href': u'https://api.bitbucket.org/2.0/repositories/phlogistonjohn/tweakmsg/pullrequests'},\n",
        "  u'self': {u'href': u'https://api.bitbucket.org/2.0/repositories/phlogistonjohn/tweakmsg'},\n",
        "  u'watchers': {u'href': u'https://api.bitbucket.org/2.0/repositories/phlogistonjohn/tweakmsg/watchers'}},\n",
        " u'name': u'tweakmsg',\n",
        " u'owner': {u'display_name': u'John Mulligan',\n",
        "  u'links': {u'avatar': {u'href': u'https://bitbucket-assetroot.s3.amazonaws.com/c/photos/2009/Nov/07/Screenshot1_avatar.png'},\n",
        "   u'html': {u'href': u'https://bitbucket.org/phlogistonjohn'},\n",
        "   u'self': {u'href': u'https://api.bitbucket.org/2.0/users/phlogistonjohn'}},\n",
        "  u'username': u'phlogistonjohn'},\n",
        " u'scm': u'hg',\n",
        " u'size': 7085,\n",
        " u'updated_on': u'2012-06-24T17:32:27.458855+00:00',\n",
        " u'uuid': u'{59299fb9-3695-4e0c-b8ca-836888b83315}'}"
       ]
      }
     ],
     "prompt_number": 9
    },
    {
     "cell_type": "code",
     "collapsed": false,
     "input": [],
     "language": "python",
     "metadata": {},
     "outputs": []
    }
   ],
   "metadata": {}
  }
 ]
}