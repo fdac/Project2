{
 "metadata": {
  "name": "",
  "signature": "sha256:9107f994cd679b2dd8bae30b296166268d643de600b8dfaed7d692b6554b472e"
 },
 "nbformat": 3,
 "nbformat_minor": 0,
 "worksheets": [
  {
   "cells": [
    {
     "cell_type": "code",
     "collapsed": false,
     "input": [
      "#Read and look at the variables\n",
      "x <- read.csv(\"prepR.r\",sep=';')\n",
      "summary(x)"
     ],
     "language": "python",
     "metadata": {},
     "outputs": [
      {
       "metadata": {},
       "output_type": "pyout",
       "prompt_number": 2,
       "text": [
        "                                 repo              nW          \n",
        " 000000brodie_public-testing       :     1   Min.   :   0.000  \n",
        " 000paradox000_master-details-final:     1   1st Qu.:   1.000  \n",
        " 000technofreak_training           :     1   Median :   1.000  \n",
        " 0022_mohsen                       :     1   Mean   :   1.355  \n",
        " 0077cc_deploytest                 :     1   3rd Qu.:   1.000  \n",
        " 0077cc_practical-django-projects  :     1   Max.   :1008.000  \n",
        " (Other)                           :416317                     \n",
        "      nFr               nPu                 nDe                 nAu          \n",
        " Min.   :   0.00   Min.   :  0.00000   Min.   :        0   Min.   :    0.00  \n",
        " 1st Qu.:   0.00   1st Qu.:  0.00000   1st Qu.:        9   1st Qu.:    1.00  \n",
        " Median :   0.00   Median :  0.00000   Median :       50   Median :    1.00  \n",
        " Mean   :   0.15   Mean   :  0.01244   Mean   :     3925   Mean   :   34.87  \n",
        " 3rd Qu.:   0.00   3rd Qu.:  0.00000   3rd Qu.:      270   3rd Qu.:    2.00  \n",
        " Max.   :5313.00   Max.   :145.00000   Max.   :100000001   Max.   :15186.00  \n",
        "                                                                             \n",
        "      nFi            vcs              Siz                 from          \n",
        " Min.   :0.00e+00   git:252042   Min.   :0.000e+00   Min.   :1.214e+09  \n",
        " 1st Qu.:5.00e+00   hg :164281   1st Qu.:3.901e+04   1st Qu.:1.347e+09  \n",
        " Median :2.50e+01                Median :2.684e+05   Median :1.377e+09  \n",
        " Mean   :9.68e+02                Mean   :1.662e+07   Mean   :1.365e+09  \n",
        " 3rd Qu.:1.19e+02                3rd Qu.:2.268e+06   3rd Qu.:1.396e+09  \n",
        " Max.   :1.00e+08                Max.   :2.184e+10   Max.   :1.412e+09  \n",
        "                                                                        \n",
        "       to                      u               nFl         \n",
        " Min.   :1.315e+09   mvj3_      :  1947   Min.   :  0.000  \n",
        " 1st Qu.:1.357e+09   pombredanne:   962   1st Qu.:  0.000  \n",
        " Median :1.384e+09   trac-hacks :   871   Median :  0.000  \n",
        " Mean   :1.378e+09   cyanogenmod:   653   Mean   :  1.984  \n",
        " 3rd Qu.:1.401e+09   chameleonos:   348   3rd Qu.:  1.000  \n",
        " Max.   :1.412e+09   tobyink    :   342   Max.   :398.000  \n",
        "                     (Other)    :411200                    "
       ]
      }
     ],
     "prompt_number": 2
    },
    {
     "cell_type": "code",
     "collapsed": false,
     "input": [
      "tv <- cbind(log(x$nFr+1), log(x$nW+1), log(x$nPu+1), log(x$nDe+1), log(x$nAu+1), log(x$nFi+1), \n",
      "            log(x$Siz+1), log(x$nFl+1), log(x$to-x$from+1), x$from/3600/24/365.25+1970)\n",
      "\n",
      "tv <- data.frame(tv)\n",
      "names(tv) <- c(\"lnFr\",\"lnW\", \"lnPu\",\"lnDe\",\"lnAu\",\"lnFi\",\"lnSiz\",\"lnFl\",\"lnInt\",\"from\")\n",
      "summary(tv)"
     ],
     "language": "python",
     "metadata": {},
     "outputs": [
      {
       "metadata": {},
       "output_type": "pyout",
       "prompt_number": 9,
       "text": [
        "      lnFr              lnW              lnPu              lnDe       \n",
        " Min.   :0.00000   Min.   :0.0000   Min.   :0.00000   Min.   : 0.000  \n",
        " 1st Qu.:0.00000   1st Qu.:0.6931   1st Qu.:0.00000   1st Qu.: 2.303  \n",
        " Median :0.00000   Median :0.6931   Median :0.00000   Median : 3.932  \n",
        " Mean   :0.04837   Mean   :0.7425   Mean   :0.00676   Mean   : 4.077  \n",
        " 3rd Qu.:0.00000   3rd Qu.:0.6931   3rd Qu.:0.00000   3rd Qu.: 5.602  \n",
        " Max.   :8.57810   Max.   :6.9167   Max.   :4.98361   Max.   :18.421  \n",
        "      lnAu             lnFi            lnSiz            lnFl       \n",
        " Min.   :0.0000   Min.   : 0.000   Min.   : 0.00   Min.   :0.0000  \n",
        " 1st Qu.:0.6931   1st Qu.: 1.792   1st Qu.:10.57   1st Qu.:0.0000  \n",
        " Median :0.6931   Median : 3.258   Median :12.50   Median :0.0000  \n",
        " Mean   :1.1388   Mean   : 3.456   Mean   :12.61   Mean   :0.4658  \n",
        " 3rd Qu.:1.0986   3rd Qu.: 4.787   3rd Qu.:14.63   3rd Qu.:0.6931  \n",
        " Max.   :9.6282   Max.   :18.421   Max.   :23.81   Max.   :5.9890  \n",
        "     lnInt             from     \n",
        " Min.   : 0.000   Min.   :2008  \n",
        " 1st Qu.: 4.654   1st Qu.:2013  \n",
        " Median :12.745   Median :2014  \n",
        " Mean   :10.353   Mean   :2013  \n",
        " 3rd Qu.:16.449   3rd Qu.:2014  \n",
        " Max.   :19.067   Max.   :2015  "
       ]
      }
     ],
     "prompt_number": 9
    },
    {
     "cell_type": "code",
     "collapsed": false,
     "input": [
      "options(digits=2)\n",
      "cor(tv,method=\"spearman\")"
     ],
     "language": "python",
     "metadata": {},
     "outputs": [
      {
       "metadata": {},
       "output_type": "pyout",
       "prompt_number": 13,
       "text": [
        "        lnFr    lnW   lnPu   lnDe   lnAu     lnFi   lnSiz     lnFl  lnInt\n",
        "lnFr   1.000  0.270  0.262  0.100  0.121  0.07994 0.05612  0.17830  0.179\n",
        "lnW    0.270  1.000  0.113  0.067  0.050  0.06714 0.05297  0.22197  0.183\n",
        "lnPu   0.262  0.113  1.000  0.045  0.071  0.03324 0.03551  0.06641  0.068\n",
        "lnDe   0.100  0.067  0.045  1.000  0.691  0.96288 0.76946  0.06839  0.196\n",
        "lnAu   0.121  0.050  0.071  0.691  1.000  0.60740 0.53535  0.10086  0.152\n",
        "lnFi   0.080  0.067  0.033  0.963  0.607  1.00000 0.76628  0.04733  0.165\n",
        "lnSiz  0.056  0.053  0.036  0.769  0.535  0.76628 1.00000  0.00086  0.081\n",
        "lnFl   0.178  0.222  0.066  0.068  0.101  0.04733 0.00086  1.00000  0.225\n",
        "lnInt  0.179  0.183  0.068  0.196  0.152  0.16530 0.08100  0.22483  1.000\n",
        "from  -0.133 -0.044 -0.019 -0.032 -0.047 -0.00036 0.19166 -0.21446 -0.487\n",
        "          from\n",
        "lnFr  -0.13338\n",
        "lnW   -0.04445\n",
        "lnPu  -0.01935\n",
        "lnDe  -0.03228\n",
        "lnAu  -0.04661\n",
        "lnFi  -0.00036\n",
        "lnSiz  0.19166\n",
        "lnFl  -0.21446\n",
        "lnInt -0.48678\n",
        "from   1.00000"
       ]
      }
     ],
     "prompt_number": 13
    },
    {
     "cell_type": "code",
     "collapsed": false,
     "input": [
      "tvf <- tv; tvf$vcs=x$vcs; tvf$n=x$n; tvf$u=x$u;\n",
      "m <- glm(I(lnFr>0)~lnW+lnPu+lnDe+lnAu+lnFl+vcs+lnInt+from,data=tvf)"
     ],
     "language": "python",
     "metadata": {},
     "outputs": [],
     "prompt_number": 21
    },
    {
     "cell_type": "code",
     "collapsed": false,
     "input": [
      "summary(m)"
     ],
     "language": "python",
     "metadata": {},
     "outputs": [
      {
       "metadata": {},
       "output_type": "pyout",
       "prompt_number": 22,
       "text": [
        "\n",
        "Call:\n",
        "glm(formula = I(lnFr > 0) ~ lnW + lnPu + lnDe + lnAu + lnFl + \n",
        "    vcs + lnInt + from, data = tvf)\n",
        "\n",
        "Deviance Residuals: \n",
        "    Min       1Q   Median       3Q      Max  \n",
        "-1.8863  -0.0577  -0.0263  -0.0048   1.1480  \n",
        "\n",
        "Coefficients:\n",
        "             Estimate Std. Error t value Pr(>|t|)    \n",
        "(Intercept)  2.14e+01   6.20e-01   34.52  < 2e-16 ***\n",
        "lnW          1.86e-01   9.34e-04  199.14  < 2e-16 ***\n",
        "lnPu         4.33e-01   3.88e-03  111.65  < 2e-16 ***\n",
        "lnDe         3.15e-03   1.63e-04   19.35  < 2e-16 ***\n",
        "lnAu         2.80e-03   3.59e-04    7.81  5.6e-15 ***\n",
        "lnFl         2.46e-02   4.07e-04   60.59  < 2e-16 ***\n",
        "vcshg        3.46e-03   7.54e-04    4.59  4.5e-06 ***\n",
        "lnInt        1.34e-03   5.29e-05   25.31  < 2e-16 ***\n",
        "from        -1.07e-02   3.08e-04  -34.76  < 2e-16 ***\n",
        "---\n",
        "Signif. codes:  0 \u2018***\u2019 0.001 \u2018**\u2019 0.01 \u2018*\u2019 0.05 \u2018.\u2019 0.1 \u2018 \u2019 1\n",
        "\n",
        "(Dispersion parameter for gaussian family taken to be 0.037)\n",
        "\n",
        "    Null deviance: 19221  on 416322  degrees of freedom\n",
        "Residual deviance: 15470  on 416314  degrees of freedom\n",
        "AIC: -189268\n",
        "\n",
        "Number of Fisher Scoring iterations: 2\n"
       ]
      }
     ],
     "prompt_number": 22
    },
    {
     "cell_type": "code",
     "collapsed": false,
     "input": [
      "anova(m)"
     ],
     "language": "python",
     "metadata": {},
     "outputs": [
      {
       "metadata": {},
       "output_type": "pyout",
       "prompt_number": 23,
       "text": [
        "Analysis of Deviance Table\n",
        "\n",
        "Model: gaussian, link: identity\n",
        "\n",
        "Response: I(lnFr > 0)\n",
        "\n",
        "Terms added sequentially (first to last)\n",
        "\n",
        "\n",
        "      Df Deviance Resid. Df Resid. Dev\n",
        "NULL                 416322      19221\n",
        "lnW    1     2784    416321      16436\n",
        "lnPu   1      504    416320      15933\n",
        "lnDe   1       78    416319      15855\n",
        "lnAu   1        1    416318      15854\n",
        "lnFl   1      227    416317      15628\n",
        "vcs    1       48    416316      15579\n",
        "lnInt  1       64    416315      15515\n",
        "from   1       45    416314      15470"
       ]
      }
     ],
     "prompt_number": 23
    },
    {
     "cell_type": "code",
     "collapsed": false,
     "input": [
      "m1 <- glm(I(lnFr>0)~lnFl+lnInt+lnDe+from+vcs,data=tvf)"
     ],
     "language": "python",
     "metadata": {},
     "outputs": [],
     "prompt_number": 30
    },
    {
     "cell_type": "code",
     "collapsed": false,
     "input": [
      "anova(m1)"
     ],
     "language": "python",
     "metadata": {},
     "outputs": [
      {
       "metadata": {},
       "output_type": "pyout",
       "prompt_number": 31,
       "text": [
        "Analysis of Deviance Table\n",
        "\n",
        "Model: gaussian, link: identity\n",
        "\n",
        "Response: I(lnFr > 0)\n",
        "\n",
        "Terms added sequentially (first to last)\n",
        "\n",
        "\n",
        "      Df Deviance Resid. Df Resid. Dev\n",
        "NULL                 416322      19221\n",
        "lnFl   1      908    416321      18313\n",
        "lnInt  1      264    416320      18049\n",
        "lnDe   1       68    416319      17981\n",
        "from   1       50    416318      17931\n",
        "vcs    1        0    416317      17931"
       ]
      }
     ],
     "prompt_number": 31
    },
    {
     "cell_type": "code",
     "collapsed": false,
     "input": [
      "summary(tvf[tvf$lnFr>0,])"
     ],
     "language": "python",
     "metadata": {},
     "outputs": [
      {
       "metadata": {},
       "output_type": "pyout",
       "prompt_number": 33,
       "text": [
        "      lnFr          lnW           lnPu          lnDe           lnAu    \n",
        " Min.   :0.7   Min.   :0.0   Min.   :0.0   Min.   : 0.0   Min.   :0.0  \n",
        " 1st Qu.:0.7   1st Qu.:0.7   1st Qu.:0.0   1st Qu.: 3.5   1st Qu.:0.7  \n",
        " Median :0.7   Median :1.1   Median :0.0   Median : 4.9   Median :1.1  \n",
        " Mean   :1.0   Mean   :1.3   Mean   :0.1   Mean   : 5.2   Mean   :1.5  \n",
        " 3rd Qu.:1.1   3rd Qu.:1.6   3rd Qu.:0.0   3rd Qu.: 6.6   3rd Qu.:1.8  \n",
        " Max.   :8.6   Max.   :6.9   Max.   :5.0   Max.   :14.2   Max.   :9.6  \n",
        "                                                                       \n",
        "      lnFi          lnSiz           lnFl         lnInt           from     \n",
        " Min.   : 0.0   Min.   : 0.0   Min.   :0.0   Min.   : 0.0   Min.   :2009  \n",
        " 1st Qu.: 2.7   1st Qu.:11.4   1st Qu.:0.0   1st Qu.:14.4   1st Qu.:2011  \n",
        " Median : 4.0   Median :13.3   Median :1.1   Median :16.8   Median :2013  \n",
        " Mean   : 4.3   Mean   :13.4   Mean   :1.2   Mean   :15.1   Mean   :2012  \n",
        " 3rd Qu.: 5.5   3rd Qu.:15.3   3rd Qu.:1.9   3rd Qu.:17.8   3rd Qu.:2014  \n",
        " Max.   :12.8   Max.   :22.7   Max.   :6.0   Max.   :19.1   Max.   :2015  \n",
        "                                                                          \n",
        "  vcs                      u        \n",
        " git: 7698   chamilo-archive:  181  \n",
        " hg :12503   atlassian      :  141  \n",
        "             chamilo        :  135  \n",
        "             nrg            :   91  \n",
        "             lindenlab      :   90  \n",
        "             nantic         :   52  \n",
        "             (Other)        :19511  "
       ]
      }
     ],
     "prompt_number": 33
    },
    {
     "cell_type": "code",
     "collapsed": false,
     "input": [
      "hist(tvf[tvf$lnFr>0,\"lnFr\"])"
     ],
     "language": "python",
     "metadata": {},
     "outputs": [
      {
       "metadata": {},
       "output_type": "display_data",
       "png": "[encoded data removed]"
      }
     ],
     "prompt_number": 34
    },
    {
     "cell_type": "code",
     "collapsed": false,
     "input": [
      "m2 <- lm(lnFr~lnFl+lnInt+lnDe+from+vcs,data=tvf,subs=tvf$lnFr>0)"
     ],
     "language": "python",
     "metadata": {},
     "outputs": [],
     "prompt_number": 35
    },
    {
     "cell_type": "code",
     "collapsed": false,
     "input": [
      "summary(m2)"
     ],
     "language": "python",
     "metadata": {},
     "outputs": [
      {
       "metadata": {},
       "output_type": "pyout",
       "prompt_number": 36,
       "text": [
        "\n",
        "Call:\n",
        "lm(formula = lnFr ~ lnFl + lnInt + lnDe + from + vcs, data = tvf, \n",
        "    subset = tvf$lnFr > 0)\n",
        "\n",
        "Residuals:\n",
        "   Min     1Q Median     3Q    Max \n",
        "-0.961 -0.310 -0.156  0.125  7.230 \n",
        "\n",
        "Coefficients:\n",
        "            Estimate Std. Error t value Pr(>|t|)    \n",
        "(Intercept) 41.73430    7.05230    5.92  3.3e-09 ***\n",
        "lnFl         0.10881    0.00326   33.33  < 2e-16 ***\n",
        "lnInt        0.01318    0.00107   12.34  < 2e-16 ***\n",
        "lnDe         0.03513    0.00168   20.87  < 2e-16 ***\n",
        "from        -0.02048    0.00350   -5.85  5.0e-09 ***\n",
        "vcshg       -0.05985    0.00973   -6.15  7.7e-10 ***\n",
        "---\n",
        "Signif. codes:  0 \u2018***\u2019 0.001 \u2018**\u2019 0.01 \u2018*\u2019 0.05 \u2018.\u2019 0.1 \u2018 \u2019 1\n",
        "\n",
        "Residual standard error: 0.55 on 20195 degrees of freedom\n",
        "Multiple R-squared:  0.112,\tAdjusted R-squared:  0.111 \n",
        "F-statistic:  508 on 5 and 20195 DF,  p-value: <2e-16\n"
       ]
      }
     ],
     "prompt_number": 36
    },
    {
     "cell_type": "code",
     "collapsed": false,
     "input": [
      "anova(m2)"
     ],
     "language": "python",
     "metadata": {},
     "outputs": [
      {
       "metadata": {},
       "output_type": "pyout",
       "prompt_number": 37,
       "text": [
        "Analysis of Variance Table\n",
        "\n",
        "Response: lnFr\n",
        "             Df Sum Sq Mean Sq F value  Pr(>F)    \n",
        "lnFl          1    515     515  1680.8 < 2e-16 ***\n",
        "lnInt         1    123     123   402.1 < 2e-16 ***\n",
        "lnDe          1    125     125   407.1 < 2e-16 ***\n",
        "from          1      3       3    10.8   0.001 ** \n",
        "vcs           1     12      12    37.9 7.7e-10 ***\n",
        "Residuals 20195   6187       0                    \n",
        "---\n",
        "Signif. codes:  0 \u2018***\u2019 0.001 \u2018**\u2019 0.01 \u2018*\u2019 0.05 \u2018.\u2019 0.1 \u2018 \u2019 1"
       ]
      }
     ],
     "prompt_number": 37
    },
    {
     "cell_type": "code",
     "collapsed": false,
     "input": [],
     "language": "python",
     "metadata": {},
     "outputs": []
    }
   ],
   "metadata": {}
  }
 ]
}